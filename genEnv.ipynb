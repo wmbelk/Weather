{
 "cells": [
  {
   "cell_type": "markdown",
   "id": "f8c1cd58-badf-4182-ae23-800b4475f948",
   "metadata": {
    "tags": []
   },
   "source": [
    "# Try out Bayesian update to environmental estimate"
   ]
  },
  {
   "cell_type": "code",
   "execution_count": null,
   "id": "6ed0e9e6-e544-4a86-bb62-d5fb8bd0e4fa",
   "metadata": {},
   "outputs": [],
   "source": [
    "#%%\n",
    "import pymc as pm\n",
    "import numpy as np\n",
    "import matplotlib.pyplot as plt\n",
    "from matplotlib import cm\n",
    "import pandas as pd\n",
    "import scipy.stats as stats\n",
    "import seaborn as sns\n",
    "import xarray as xr\n",
    "import arviz as az\n",
    "from hierarchical_normal_belk import hierarchical_normal\n",
    "import itertools\n",
    "#!! conda install -c conda-forge flox\n",
    "import flox\n",
    "from flox.xarray import xarray_reduce # useful in doing multiple coord groupings\n",
    "\n",
    "#%%"
   ]
  },
  {
   "cell_type": "code",
   "execution_count": null,
   "id": "66f1029e-bc16-4f64-9323-6c0ee45680b2",
   "metadata": {},
   "outputs": [],
   "source": [
    "rng=np.random.Generator(np.random.PCG64(1234))\n",
    "#%%\n",
    "size = 160\n",
    "mean_tempC_Km = 6.5/1000\n",
    "max_alt_Km = 13\n",
    "#keep lat and long square for ease of matrixing\n",
    "horz_offest = 10\n",
    "lat = np.arange(horz_offest, size)\n",
    "long = np.arange(0, size - horz_offest)\n",
    "alt = np.arange(0, max_alt_Km)*1000\n",
    "#%%"
   ]
  },
  {
   "cell_type": "code",
   "execution_count": null,
   "id": "6fec1da4-9291-4262-9444-c29afb0ab9df",
   "metadata": {},
   "outputs": [],
   "source": [
    "def sample_AR_signal(n_samples, corr, mu=0, sigma=1):\n",
    "    assert 0 < corr < 1, \"Auto-correlation must be between 0 and 1\"\n",
    "\n",
    "    # Find out the offset `c` and the std of the white noise `sigma_e`\n",
    "    # that produce a signal with the desired mean and variance.\n",
    "    # See https://en.wikipedia.org/wiki/Autoregressive_model\n",
    "    # under section \"Example: An AR(1) process\".\n",
    "    c = mu * (1 - corr)\n",
    "    sigma_e = np.sqrt((sigma ** 2) * (1 - corr ** 2))\n",
    "\n",
    "    # Sample the auto-regressive process.\n",
    "    signal = [c + np.random.normal(0, sigma_e)]\n",
    "    for _ in range(1, n_samples):\n",
    "        signal.append(c + corr * signal[-1] + np.random.normal(0, sigma_e))\n",
    "\n",
    "    return np.array(signal)\n",
    "\n",
    "def compute_corr_lag_1(signal):\n",
    "    return np.corrcoef(signal[:-1], signal[1:])[0][1]\n",
    "#%%"
   ]
  },
  {
   "cell_type": "markdown",
   "id": "246c9ea9-4cf3-4d81-ba57-581f309e2089",
   "metadata": {},
   "source": [
    "\n",
    "Baseline thermal along latitude"
   ]
  },
  {
   "cell_type": "code",
   "execution_count": null,
   "id": "56e81a4b-f9be-427e-bb76-88aa2f4f3772",
   "metadata": {},
   "outputs": [],
   "source": [
    "base_sigma = .05\n",
    "samp_lat= pd.DataFrame(sample_AR_signal(size-horz_offest, 0.5, mu=2, sigma=base_sigma))\n",
    "# %%"
   ]
  },
  {
   "cell_type": "markdown",
   "id": "9f835f0b-8a06-48af-bbcd-8f5f87fe2d75",
   "metadata": {},
   "source": [
    "Extend along longitude"
   ]
  },
  {
   "cell_type": "code",
   "execution_count": null,
   "id": "e1d39d6e-cea4-4723-859a-4897217b4ace",
   "metadata": {},
   "outputs": [],
   "source": [
    "samp = sample_AR_signal(size-horz_offest, 0.5, mu=samp_lat, sigma=base_sigma)\n",
    "samp = pd.DataFrame(samp[:, :, 0])\n",
    "# %%"
   ]
  },
  {
   "cell_type": "code",
   "execution_count": null,
   "id": "1f908b14-0e14-42f3-b454-48e223b2a7f1",
   "metadata": {},
   "outputs": [],
   "source": [
    "def plot_temperature_env(samp):\n",
    "    x2, y2 = np.meshgrid(samp.index.values, samp.columns.values)\n",
    "    plt.figure(figsize=(6,5))\n",
    "    axes = plt.axes(projection='3d')\n",
    "    axes.plot_surface(x2, y2,samp.values,cmap=cm.coolwarm,\n",
    "                          linewidth=0, antialiased=False)\n",
    "    axes.set_ylabel('Longitude')\n",
    "    axes.set_xlabel('Latitude')\n",
    "    axes.set_zlabel('Temperature')\n",
    "    # keeps padding between figure elements\n",
    "    plt.tight_layout()\n",
    "    plt.show()\n",
    "\n",
    "plot_temperature_env(samp)\n",
    "# %%"
   ]
  },
  {
   "cell_type": "markdown",
   "id": "b588f895-3ab0-42bb-806f-fd6ba90da101",
   "metadata": {},
   "source": [
    "Add trend on top of the AR variation -- to baseline thermal"
   ]
  },
  {
   "cell_type": "code",
   "execution_count": null,
   "id": "d613ed02-0a8b-48fc-a4ed-004e929472e9",
   "metadata": {},
   "outputs": [],
   "source": [
    "lat_inc_max = 5\n",
    "long_inc_mu, long_inc_std = .01, .1\n",
    "\n",
    "def add_inc_MA(size, horz_offest, sample_AR_signal, samp_lat, lat_inc_max, long_inc_mu, long_inc_std):\n",
    "    lat_inc = np.linspace(0,lat_inc_max, len(samp_lat))\n",
    "    sample_lat_inc = samp_lat[0] + lat_inc\n",
    "    sample_lat_inc = pd.DataFrame(sample_lat_inc)\n",
    "#sample_lat_inc.plot()\n",
    "\n",
    "    samp_inc = sample_AR_signal(size-horz_offest, corr=0.5, mu=sample_lat_inc)\n",
    "    long_inc = stats.norm.rvs(loc=long_inc_mu, scale=long_inc_std, size=(size-horz_offest,size-horz_offest), random_state=None)\n",
    "    long_inc = np.cumsum(long_inc, axis=0)\n",
    "    samp_inc = pd.DataFrame(samp_inc[:, :, 0]+long_inc)\n",
    "    return samp_inc\n",
    "\n",
    "samp_inc = add_inc_MA(size, horz_offest, sample_AR_signal, samp_lat, lat_inc_max, long_inc_mu, long_inc_std)\n",
    "\n",
    "\n",
    "plot_temperature_env(samp_inc)\n",
    "# %%"
   ]
  },
  {
   "cell_type": "markdown",
   "id": "4c04a075-905d-4b4f-acf6-5a868160edca",
   "metadata": {},
   "source": [
    "Extend into atmosphere"
   ]
  },
  {
   "cell_type": "code",
   "execution_count": null,
   "id": "02e9e99e-419f-42e4-9053-9c271c4279c8",
   "metadata": {},
   "outputs": [],
   "source": [
    "#allow for inversion by having random lapse rate at diff altitudes\n",
    "def add_altitude_effects(rng, samp_inc, mean_tempC_Km, max_alt_Km):\n",
    "    tempC_Km = rng.normal(loc=mean_tempC_Km, scale=mean_tempC_Km/10, size=max_alt_Km)\n",
    "# Temp at altitude = base temp - tempC_km * altitude\n",
    "    temperature = ( [np.array(samp_inc) \n",
    "                 for _ in np.arange(max_alt_Km)]\n",
    "               -np.broadcast_to(\n",
    "    tempC_Km * np.arange(max_alt_Km)*1000, (size-horz_offest,size-horz_offest,max_alt_Km)\n",
    "    ).T\n",
    ")\n",
    "    temperature = temperature.T\n",
    "    return temperature\n",
    "\n",
    "temp_3D = add_altitude_effects(rng, samp_inc, mean_tempC_Km, max_alt_Km)\n",
    "# %%"
   ]
  },
  {
   "cell_type": "code",
   "execution_count": null,
   "id": "ed68acfe-6214-4f39-b7c9-3f9f484bdacb",
   "metadata": {},
   "outputs": [],
   "source": [
    "xr_temp_3D = xr.DataArray(temp_3D, dims=['lat', 'long', 'alt'], coords={'lat': lat, 'long': long, 'alt': alt})\n",
    "fig = xr_temp_3D.plot.contourf(x='lat',y='long',col='alt', col_wrap=4,\n",
    "                         robust=True, vmin=-90, vmax=32, levels=20)\n",
    "plt.suptitle('Temperature at different altitudes', fontsize = 'xx-large',\n",
    "             weight = 'extra bold')\n",
    "plt.subplots_adjust(top=.92, right=.8, left=.05, bottom=.05)\n",
    "\n",
    "xr_tempC_Km=  xr.DataArray(mean_tempC_Km, dims=['alt'], coords={'alt': alt})"
   ]
  },
  {
   "attachments": {},
   "cell_type": "markdown",
   "id": "1fd6fe58-c7cd-49b7-8d46-6d5e6cb0f97b",
   "metadata": {},
   "source": [
    "Calculate pressure based on baseline temp field and assumed L; \n"
   ]
  },
  {
   "cell_type": "code",
   "execution_count": null,
   "id": "1ec95512-ea92-4b62-bc1b-883dd68a4fec",
   "metadata": {},
   "outputs": [],
   "source": [
    "# %%\n",
    "#barometric formula\n",
    "def add_barometric_effects(T = 288.15-273.15, L = 0.0065, H = 0,  P0 = 101_325.00, g0 = 9.80665, M = 0.0289644, R = 8.3144598):\n",
    "    #barometric formula\n",
    "    #P = P0 * (1 - L * H / T0) ^ (g0 * M / (R * L))\n",
    "    #P = pressure\n",
    "    #P0 = pressure at sea level = 101_325.00 Pa\n",
    "    #L = temperature lapse rate = temperature lapse rate (K/m) in\n",
    "    #H = altitude (m)\n",
    "    #T0 = temperature at sea level = reference temperature (K)\n",
    "    #g0 = gravitational acceleration = gravitational acceleration: 9.80665 m/s2\n",
    "    #M = molar mass of air = molar mass of Earth's air: 0.0289644 kg/mol\n",
    "    #R = gas constant = universal gas constant: 8.3144598 J/(mol·K)\n",
    "    #L = temperature lapse rate\n",
    "    #T = temperature\n",
    "    T = T +273.15\n",
    "    if isinstance(T, xr.core.dataarray.DataArray):\n",
    "        T0 = T.sel(alt=0)\n",
    "        \n",
    "    else:\n",
    "        T0 = T[0]\n",
    "        print('used t[0]')\n",
    "        print(type(T))\n",
    "    #return P0 * (1 - L * H / (T0+273.15)) ** (g0 * M / (R * L))\n",
    "    return P0 * (T / T0) ** (g0 * M / (R * L.mean()))\n",
    "\n",
    "\n",
    "pressure = add_barometric_effects(T = xr_temp_3D, \n",
    "                                 L = xr_tempC_Km, \n",
    "                                 H = xr_temp_3D.alt,  P0 = 101_325.00, g0 = 9.80665, M = 0.0289644, R = 8.3144598)\n",
    "   "
   ]
  },
  {
   "cell_type": "code",
   "execution_count": null,
   "id": "3a55b452-b084-487c-a8d9-849a125a1ab6",
   "metadata": {},
   "outputs": [],
   "source": [
    "pressure"
   ]
  },
  {
   "cell_type": "code",
   "execution_count": null,
   "id": "6561beb8-9831-44b3-b382-59a44434a9d9",
   "metadata": {},
   "outputs": [],
   "source": [
    "# %%\n",
    "xr_temp_pres = xr.merge(\n",
    "    [xr_temp_3D.rename(\"Temperature\"), \n",
    "     pressure.rename(\"Pressure\")]\n",
    "     )\n",
    "# %%\n",
    "xr_temp_pres.Pressure.plot.contourf(x='lat',y='long', col='alt', col_wrap=4,\n",
    "                         robust=True, levels=20)\n",
    "plt.suptitle('Pressure at different altitudes', fontsize = 'xx-large',\n",
    "             weight = 'extra bold')\n",
    "plt.subplots_adjust(top=.92, right=.8, left=.05, bottom=.05)\n",
    "# %%"
   ]
  },
  {
   "cell_type": "markdown",
   "id": "7efe178c-ef45-4e7b-bd04-6276e3f49d44",
   "metadata": {},
   "source": [
    "# make trajectory and get corresponding temp and pres"
   ]
  },
  {
   "cell_type": "code",
   "execution_count": null,
   "id": "69189ff3-ff83-4373-b0f5-ac15ac8012e4",
   "metadata": {},
   "outputs": [],
   "source": [
    "# %%\n",
    "# make Z = a function of time and  X = sin of time and y = cos of time\n",
    "time = np.arange(0, 100, 0.1)\n",
    "release_alt = 12_000 #Troposphere goes to about 12Km, thermal is about linear there\n",
    "step_alt = 1\n",
    "x = (np.sin(time) +1) * size/2 +30\n",
    "y = (np.cos(time) +1 ) * size/2\n",
    "#create samples from normal distribution and sort them\n",
    "samples = stats.weibull_max.rvs(1, loc=0, scale=1, size=len(time), random_state=None)\n",
    "samples.sort()\n",
    "steps = samples/(samples.max()-samples.min()) /1.3  #normalize and shrink\n",
    "steps = steps - steps.min() #shift to 0\n",
    " #smaller step per time\n",
    "z = release_alt * (1- steps)\n",
    "\n",
    "plt.plot(time, z)\n",
    "plt.xlabel('Time')\n",
    "plt.ylabel('Altitude')\n",
    "plt.title('Altitude vs Time')\n",
    "ax = plt.gca()\n",
    "ax.set_ylim(0, 12000)\n",
    "plt.show()\n",
    "#plot 3d trajectory of z by x and y\n",
    "fig = plt.figure()\n",
    "ax = fig.add_subplot(111, projection='3d')\n",
    "ax.plot(x, y, z)\n",
    "ax.set_xlabel('X')\n",
    "ax.set_ylabel('Y')\n",
    "ax.set_zlabel('Z')\n",
    "\n",
    "ax.set_zlim(0, 12000)\n",
    "plt.title('3D Trajectory')\n",
    "plt.show()\n",
    "# %%"
   ]
  },
  {
   "cell_type": "code",
   "execution_count": null,
   "id": "33a911a3-9366-4c59-9fbd-a902d8f27bb8",
   "metadata": {},
   "outputs": [],
   "source": [
    "#select from xarray the temperature at the pressure of the trajectory\n",
    "xr_x = xr.DataArray(x, dims=['time'], coords={'time': time})\n",
    "xr_y = xr.DataArray(y, dims=['time'], coords={'time': time})\n",
    "xr_z = xr.DataArray(z, dims=['time'], coords={'time': time})\n",
    "\n",
    "xr_traj_env = xr_temp_pres.interp(lat=xr_x,long=xr_y,alt=xr_z)#, method='nearest')\n",
    "xr_traj_env = xr_traj_env.interpolate_na(dim='time', method='linear', fill_value=\"extrapolate\")"
   ]
  },
  {
   "cell_type": "code",
   "execution_count": null,
   "id": "47259a9a-bf70-45bc-9744-ca7f6f866701",
   "metadata": {},
   "outputs": [],
   "source": [
    "xr_traj_env.Temperature.plot()\n",
    "plt.suptitle('Temperature over time', fontsize = 'xx-large')\n",
    "plt.show()\n",
    "xr_traj_env.Pressure.plot()\n",
    "plt.suptitle('pressure over time', fontsize = 'xx-large')\n",
    "plt.show()\n"
   ]
  },
  {
   "cell_type": "code",
   "execution_count": null,
   "id": "d822bed4-c0f2-41c6-8603-c37ba9a2384b",
   "metadata": {},
   "outputs": [],
   "source": [
    "#add wind direction and speed then its velocity relvant to the trajectory\n",
    "wind_direction = 180 #degrees from north is 0, from east is 90, from south is 180, from west is 270\n",
    "wind_speed = 10 #m/s #TODO: add wind speed as a function of altitude and lat long\n",
    "wind_speed_long = wind_speed * np.cos(np.deg2rad(wind_direction))\n",
    "wind_speed_lat = wind_speed * np.sin(np.deg2rad(wind_direction))\n",
    "wind_speed_z = 0\n",
    "display('wind_speed_long',wind_speed_long, \n",
    "        'wind_speed_lat',wind_speed_lat, \n",
    "        'wind_speed_z',wind_speed_z)\n",
    "# %%"
   ]
  },
  {
   "cell_type": "code",
   "execution_count": null,
   "id": "f2b907f6-2a7c-4b54-aaa1-45b42e4baea3",
   "metadata": {},
   "outputs": [],
   "source": [
    "#add wind velocity relevant to the trajectory; dont add wind in\n",
    "if False:\n",
    "    xr_traj_env['wind_speed_long'] = wind_speed_long\n",
    "    xr_traj_env['wind_speed_lat'] = wind_speed_lat\n",
    "    xr_traj_env['wind_speed_z'] = wind_speed_z\n",
    "    xr_traj_env['wind_speed'] = np.sqrt(wind_speed_long**2 + wind_speed_lat**2 + wind_speed_z**2)\n",
    "    xr_traj_env['wind_direction'] = wind_direction\n",
    "    xr_traj_env=xr_traj_env.interpolate_na(dim='time', method='linear', limit=None, use_coordinate=True, fill_value='extrapolate')\n",
    "    xr_traj_env\n",
    "# %%"
   ]
  },
  {
   "cell_type": "markdown",
   "id": "56a2d1b7-a64a-4cd9-a2b2-3b1b145fd35c",
   "metadata": {},
   "source": [
    "# Using average values per Km; TODO: find more principled way to remove autocorrelation "
   ]
  },
  {
   "cell_type": "code",
   "execution_count": null,
   "id": "e132d99d",
   "metadata": {},
   "outputs": [],
   "source": [
    "bins_alt = np.linspace(alt.min(), alt.max(), 11)\n",
    "bins_lat =[lat.min(), lat.mean(),lat.max()] #quadrents\n",
    "bins_long = [long.min(), long.mean(), long.max()]# quadrents\n",
    "bins_time = np.arange(time.min(), time.max()+1, 10)"
   ]
  },
  {
   "cell_type": "code",
   "execution_count": null,
   "id": "895dd06a",
   "metadata": {},
   "outputs": [],
   "source": [
    "#grouping lat long and alt\n",
    "if False:\n",
    "  grp_traj_env=xarray_reduce(xr_traj_env.drop_vars(['wind_speed_long', 'wind_speed_lat', 'wind_speed_z', 'wind_speed', 'wind_direction']),\n",
    "               'alt', 'lat', 'long',\n",
    "                 func='mean',\n",
    "                 expected_groups=(\n",
    "                            pd.IntervalIndex.from_breaks(bins_alt, closed='left'),\n",
    "                            pd.IntervalIndex.from_breaks(bins_lat, closed='left'),\n",
    "                            pd.IntervalIndex.from_breaks(bins_long, closed='left')\n",
    "                        ))\n",
    "  grp_traj_env"
   ]
  },
  {
   "cell_type": "code",
   "execution_count": null,
   "id": "b959c372",
   "metadata": {},
   "outputs": [],
   "source": [
    "#grouping lat long and alt and time\n",
    "grp_traj_env=xarray_reduce(xr_traj_env, #.drop_vars(['wind_speed_long', 'wind_speed_lat', 'wind_speed_z', 'wind_speed', 'wind_direction']),\n",
    "               'alt', 'lat', 'long', 'time',\n",
    "                 func='mean',\n",
    "                 expected_groups=(\n",
    "                            pd.IntervalIndex.from_breaks(bins_alt, closed='left'),\n",
    "                            pd.IntervalIndex.from_breaks(bins_lat, closed='left'),\n",
    "                            pd.IntervalIndex.from_breaks(bins_long, closed='left'),\n",
    "                            pd.IntervalIndex.from_breaks(bins_time, closed='left')\n",
    "                        ))\n",
    "\n",
    "grp_traj_env = grp_traj_env.stack(alt_lat_long_time=(\n",
    "    'alt_bins', \n",
    "    'lat_bins', \n",
    "    'long_bins',\n",
    "    'time_bins')).dropna(dim='alt_lat_long_time')\n",
    "\n",
    "grp_traj_env.coords"
   ]
  },
  {
   "attachments": {},
   "cell_type": "markdown",
   "id": "0fc14174-a553-496a-b1d1-84588b9b9702",
   "metadata": {},
   "source": [
    "# Model temp and pressure varying by altitude, lat, & long"
   ]
  },
  {
   "cell_type": "code",
   "execution_count": null,
   "id": "15708919",
   "metadata": {},
   "outputs": [],
   "source": [
    "\n",
    "coords={'alt_lat_long_time':\n",
    "                      np.arange(grp_traj_env.sizes['alt_lat_long_time'], dtype=int)\n",
    "                      }\n",
    "coords"
   ]
  },
  {
   "cell_type": "code",
   "execution_count": null,
   "id": "2c86d7ad-7a23-4112-8895-439f6084d9e9",
   "metadata": {},
   "outputs": [],
   "source": [
    "with pm.Model(coords=coords) as thermal_pres:\n",
    "    #Temp is in celcius\n",
    "    \n",
    "    Alt_ = pm.ConstantData('Altitude_m', [bin_item.mid \n",
    "                                          for bin_item in grp_traj_env.alt_bins.values], \n",
    "                                          dims='alt_lat_long_time' )\n",
    "    Lat_ = pm.ConstantData('Latitude', [bin_item.mid\n",
    "                                        for bin_item in grp_traj_env.lat_bins.values],\n",
    "                                        dims='alt_lat_long_time' )\n",
    "    Long_ = pm.ConstantData('Longitude', [bin_item.mid\n",
    "                                          for bin_item in grp_traj_env.long_bins.values],\n",
    "                                          dims='alt_lat_long_time' )\n",
    "    Temp_ = pm.ConstantData('Temperature_Samples', grp_traj_env.Temperature.values, dims='alt_lat_long_time' )\n",
    "    Pres_ = pm.ConstantData('Pressure_Samples', grp_traj_env.Pressure.values, dims='alt_lat_long_time' )\n",
    "    #prior on effect on temp (degC) of altitude and lat, long\n",
    "    baseline_temp = pm.Normal('baseline_temp', mu=0, sigma=20) #'L'\n",
    "    Alt_effect_temp = hierarchical_normal('Alt_effect_temp_Km', mu=-6, sigma=2)\n",
    "    Lat_effect_temp = hierarchical_normal('Lat_effect_temp', mu=0, sigma=1)\n",
    "    Long_effect_temp = hierarchical_normal('Long_effect_temp', mu=0, sigma=1)\n",
    "    #prior on temp and pressure\n",
    "    #TODO: PULL FROM DATABASE into a pm.Interpolated...maybe not: need relationship between data spreads?\n",
    "    mu_t = pm.Deterministic('mu_t',\n",
    "                               baseline_temp + Alt_effect_temp/1000 * Alt_ + Lat_effect_temp * Lat_ + Long_effect_temp * Long_, \n",
    "                               dims='alt_lat_long_time')\n",
    "    #mu_t = hierarchical_normal('temperature_mean', mu= mu_mu_t, sigma = 2, dims='alt_lat_long_time')\n",
    "    #mu_p = hierarchical_normal('pressure_mean', \n",
    "    mu_p= pm.Deterministic('mu_p',add_barometric_effects(T = Temp_, \n",
    "                                 L = Alt_effect_temp/1000, H = Alt_,  \n",
    "                                 P0 = 101_325.00, g0 = 9.80665, M = 0.0289644, R = 8.3144598),\n",
    "                                 dims='alt_lat_long_time')\n",
    "    #add_barometric_effects = P0 * (T/T0) ** (g0 * M / (R * L))\n",
    "    #prior on error variation\n",
    "    sigma_t=pm.Exponential('model_error_t', 1/0.025)\n",
    "    sigma_p=pm.Exponential('model_error_p', 10/1)\n",
    "    #adjusted temp - normal dist error term\n",
    "    obs_t = pm.Normal('obs_t', mu=mu_t, sigma=sigma_t, \n",
    "                    observed = Temp_, dims='alt_lat_long_time')\n",
    "    obs_p = pm.Normal('obs_p', mu=mu_p, sigma=sigma_p, \n",
    "                    observed = Pres_, dims='alt_lat_long_time')\n",
    "    \n",
    "pm.model_to_graphviz(thermal_pres)"
   ]
  },
  {
   "cell_type": "code",
   "execution_count": null,
   "id": "82a4cdbb-db48-4678-9ee6-183f5a4d3aad",
   "metadata": {},
   "outputs": [],
   "source": [
    "with thermal_pres:\n",
    "    idata2 = pm.sample_prior_predictive(1000)\n",
    "az.plot_ppc(idata2, group='prior', kind='cumulative')"
   ]
  },
  {
   "cell_type": "code",
   "execution_count": null,
   "id": "4d10c041-e5db-4a6b-82b2-e491a6f5798b",
   "metadata": {},
   "outputs": [],
   "source": [
    "with thermal_pres:\n",
    "    idata2.extend(pm.sample(1000, tune=1000,  nuts=dict(max_treedepth=15, target_accept=0.9)))\n",
    "    az.plot_trace(idata2)\n",
    "    plt.subplots_adjust (hspace=0.4)#, wspace=0.4) \n",
    "    "
   ]
  },
  {
   "cell_type": "code",
   "execution_count": null,
   "id": "5ad2b723",
   "metadata": {},
   "outputs": [],
   "source": []
  },
  {
   "cell_type": "code",
   "execution_count": null,
   "id": "a74a1070",
   "metadata": {},
   "outputs": [],
   "source": [
    "idata2"
   ]
  },
  {
   "cell_type": "code",
   "execution_count": null,
   "id": "71636280",
   "metadata": {},
   "outputs": [],
   "source": [
    "def reset_multi_dim(need_it_expanded, have_it, dims):\n",
    "    \"\"\"Reset the dims of a xarray to match another xarray\"\"\"    \n",
    "    for dim in dims:\n",
    "        if dim in have_it.dims:\n",
    "            try:\n",
    "                need_it_expanded[dim] = have_it[dim]\n",
    "                need_it_expanded= need_it_expanded.unstack(dim)\n",
    "            except:\n",
    "                pass#need_it_expanded = need_it_expanded.assign_coords({dim: have_it[dim]})\n",
    "            \n",
    "    return need_it_expanded\n",
    "\n",
    "idata2.map(reset_multi_dim, have_it=grp_traj_env, dims=['alt_lat_long_time'])\n",
    "display(idata2)"
   ]
  },
  {
   "cell_type": "code",
   "execution_count": null,
   "id": "6613b481-c7d2-496a-957c-d6ae21a56a1b",
   "metadata": {},
   "outputs": [],
   "source": [
    "\n",
    "#figures with lat in coulmns and long in rows\n",
    "fig, ax = plt.subplots(2, 2, figsize=(10, 10))\n",
    "ax = ax.flatten()\n",
    "for i, (lat, long) in enumerate([[i,j] \n",
    "                                  for i in np.unique(grp_traj_env.lat_bins.values) \n",
    "                                  for j in np.unique(grp_traj_env.long_bins.values)]):\n",
    "    print(lat,long)\n",
    "    ax[i].set_title(f'Lat: {lat.mid} Long: {long.mid}')\n",
    "    az.plot_forest(idata2_post.temperature_mean.sel(lat_bins=lat,long_bins=long), \n",
    "                   var_names=['temperature_mean'],\n",
    "                   kind='ridgeplot', \n",
    "                   combined=True, ax= ax[i]\n",
    "                   )\n",
    "    ax[i].grid()\n"
   ]
  },
  {
   "cell_type": "code",
   "execution_count": null,
   "id": "e6246ca3",
   "metadata": {},
   "outputs": [],
   "source": [
    "az.plot_forest(idata2.posterior.unstack(), var_names=['temperature_mean'],kind='ridgeplot', combined=True,combine_dims='time_bins')\n",
    "az.plot_forest(idata2, var_names=['pressure_mean'],kind='ridgeplot', combined=True)"
   ]
  },
  {
   "cell_type": "code",
   "execution_count": null,
   "id": "f2704d1c",
   "metadata": {},
   "outputs": [],
   "source": [
    "with thermal_pres:\n",
    "    # pymc sample posterior predictive check\n",
    "    pm.sample_posterior_predictive(idata2, extend_inferencedata=True)\n",
    "    az.plot_ppc(idata2, group='posterior', kind='cumulative')\n"
   ]
  },
  {
   "cell_type": "code",
   "execution_count": null,
   "id": "cf8d7899",
   "metadata": {},
   "outputs": [],
   "source": [
    "az.plot_dist_comparison(idata2, kind='observed')\n"
   ]
  }
 ],
 "metadata": {
  "kernelspec": {
   "display_name": "Python 3 (ipykernel)",
   "language": "python",
   "name": "python3"
  },
  "language_info": {
   "codemirror_mode": {
    "name": "ipython",
    "version": 3
   },
   "file_extension": ".py",
   "mimetype": "text/x-python",
   "name": "python",
   "nbconvert_exporter": "python",
   "pygments_lexer": "ipython3",
   "version": "3.10.10"
  }
 },
 "nbformat": 4,
 "nbformat_minor": 5
}
