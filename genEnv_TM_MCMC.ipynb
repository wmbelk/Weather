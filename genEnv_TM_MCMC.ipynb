{
 "cells": [
  {
   "attachments": {},
   "cell_type": "markdown",
   "metadata": {},
   "source": [
    "\n",
    "# Try out Bayesian update to environmental estimate\n"
   ]
  },
  {
   "cell_type": "code",
   "execution_count": null,
   "metadata": {},
   "outputs": [],
   "source": [
    "\n",
    "# %%\n",
    "#%%\n",
    "import pymc as pm\n",
    "import numpy as np\n",
    "import matplotlib.pyplot as plt\n",
    "from matplotlib import cm\n",
    "import pandas as pd\n",
    "import scipy.stats as stats\n",
    "import seaborn as sns\n",
    "import xarray as xr\n",
    "import arviz as az\n",
    "import arviz.labels as azl\n",
    "from hierarchical_normal_belk import hierarchical_normal\n",
    "import itertools\n",
    "#!! conda install -c conda-forge flox\n",
    "import flox\n",
    "from flox.xarray import xarray_reduce # useful in doing multiple coord groupings\n"
   ]
  },
  {
   "cell_type": "code",
   "execution_count": null,
   "metadata": {},
   "outputs": [],
   "source": [
    "rng=np.random.Generator(np.random.PCG64(1234))\n"
   ]
  },
  {
   "cell_type": "code",
   "execution_count": null,
   "metadata": {},
   "outputs": [],
   "source": [
    "size = 150 #size of grid\n",
    "horz_offest = 50 #offset of grid from 0,0\n",
    "mean_tempC_Km = 6.5/1000 #mean lapse rate\n",
    "max_alt_Km = 13 #max altitude in km\n",
    "#keep lat and long square for ease of matrixing\n",
    "lat = np.arange(horz_offest, size)\n",
    "long = np.arange(0, size - horz_offest)\n",
    "alt = np.arange(0, max_alt_Km)*1000 #in meters\n"
   ]
  },
  {
   "cell_type": "code",
   "execution_count": null,
   "metadata": {},
   "outputs": [],
   "source": [
    "# AR is auto-regressive, MA is moving average; will only use AR \n",
    "def sample_AR_signal(n_samples, corr, mu=0, sigma=1):\n",
    "    assert 0 < corr < 1, \"Auto-correlation must be between 0 and 1\"\n",
    "    burn_samples = 100\n",
    "    n_samples=n_samples+burn_samples\n",
    "\n",
    "    # Find out the offset `c` and the std of the white noise `sigma_e`\n",
    "    # that produce a signal with the desired mean and variance.\n",
    "    # See https://en.wikipedia.org/wiki/Autoregressive_model\n",
    "    # under section \"Example: An AR(1) process\".\n",
    "    c = mu * (1 - corr)\n",
    "    sigma_e = np.sqrt((sigma ** 2) * (1 - corr ** 2))\n",
    "\n",
    "    # Sample the auto-regressive process.\n",
    "    signal = [c + np.random.normal(0, sigma_e)]\n",
    "    for _ in range(1, n_samples):\n",
    "        signal.append(c + corr * signal[-1] + np.random.normal(0, sigma_e))\n",
    "    \n",
    "    return np.array(signal[burn_samples:])\n",
    "    \n",
    "def compute_corr_lag_1(signal):\n",
    "    return np.corrcoef(signal[:-1], signal[1:])[0][1]\n"
   ]
  },
  {
   "cell_type": "markdown",
   "metadata": {},
   "source": [
    "\n",
    "# Baseline thermal along latitude\n",
    "\n",
    "\n"
   ]
  },
  {
   "cell_type": "code",
   "execution_count": null,
   "metadata": {},
   "outputs": [],
   "source": [
    "base_sigma = .5\n",
    "samp_lat_base = sample_AR_signal(size-horz_offest, 0.5, mu=2, sigma=base_sigma)\n",
    "samp_lat= pd.DataFrame(samp_lat_base)\n",
    "print(compute_corr_lag_1(samp_lat_base))\n",
    "samp_lat.plot()"
   ]
  },
  {
   "cell_type": "markdown",
   "metadata": {},
   "source": [
    "\n",
    "# Extend along longitude\n"
   ]
  },
  {
   "cell_type": "code",
   "execution_count": null,
   "metadata": {},
   "outputs": [],
   "source": [
    "#use latitudes as mean for AR signal along longitudes\n",
    "samp = sample_AR_signal(size-horz_offest, 0.75, mu=samp_lat, sigma=base_sigma)\n",
    "samp = pd.DataFrame(samp[:, :, 0])\n",
    "print(compute_corr_lag_1(samp.iloc[:,0]),compute_corr_lag_1(samp.iloc[0,:]))\n"
   ]
  },
  {
   "cell_type": "code",
   "execution_count": null,
   "metadata": {},
   "outputs": [],
   "source": [
    "\n",
    "def plot_temperature_env(samp):\n",
    "    x2, y2 = np.meshgrid(samp.index.values, samp.columns.values)\n",
    "    plt.figure(figsize=(6,5))\n",
    "    axes = plt.axes(projection='3d')\n",
    "    axes.plot_surface(x2, y2,samp.values,cmap=cm.coolwarm,\n",
    "                          linewidth=0, antialiased=False)\n",
    "    axes.set_ylabel('Longitude')\n",
    "    axes.set_xlabel('Latitude')\n",
    "    axes.set_zlabel('Temperature')\n",
    "    # keeps padding between figure elements\n",
    "    plt.tight_layout()\n",
    "    plt.show()\n",
    "\n",
    "plot_temperature_env(samp)"
   ]
  },
  {
   "cell_type": "markdown",
   "metadata": {},
   "source": [
    "\n",
    "# Add trend on top of the AR variation -- to baseline thermal\n"
   ]
  },
  {
   "cell_type": "code",
   "execution_count": null,
   "metadata": {},
   "outputs": [],
   "source": [
    "# add MA\n",
    "lat_inc_slope = 10/(size - horz_offest)  #deterministic slope of increase in temperature with latitude\n",
    "lat_inc_max = lat_inc_slope *(size-horz_offest) \n",
    "long_inc_mu, long_inc_std = 20/(size - horz_offest), .1  #mean and std of increase in temperature with longitude\n",
    "\n",
    "def add_inc_MA(size, horz_offest, sample_AR_signal, samp_lat, lat_inc_max, long_inc_mu, long_inc_std):\n",
    "    lat_inc = np.linspace(0,lat_inc_max, len(samp_lat))\n",
    "    sample_lat_inc = samp_lat[0] + lat_inc\n",
    "    sample_lat_inc = pd.DataFrame(sample_lat_inc)\n",
    "#sample_lat_inc.plot()\n",
    "\n",
    "    samp_inc = sample_AR_signal(size-horz_offest, corr=0.5, mu=sample_lat_inc)\n",
    "    long_inc = stats.norm.rvs(loc=long_inc_mu, scale=long_inc_std, size=(size-horz_offest,size-horz_offest), random_state=None)\n",
    "    long_inc = np.cumsum(long_inc, axis=0)\n",
    "    samp_inc = pd.DataFrame(samp_inc[:, :, 0]+long_inc)\n",
    "    return samp_inc\n",
    "\n",
    "samp_inc = add_inc_MA(size, horz_offest, sample_AR_signal, samp_lat, lat_inc_max, long_inc_mu, long_inc_std)\n",
    "#bump temperature up to standard atmosphere\n",
    "samp_inc=samp_inc+15-2\n"
   ]
  },
  {
   "cell_type": "code",
   "execution_count": null,
   "metadata": {},
   "outputs": [],
   "source": [
    "\n",
    "plot_temperature_env(samp_inc)\n"
   ]
  },
  {
   "cell_type": "markdown",
   "metadata": {},
   "source": [
    "\n",
    "# Extend into atmosphere\n"
   ]
  },
  {
   "cell_type": "code",
   "execution_count": null,
   "metadata": {},
   "outputs": [],
   "source": [
    "\n",
    "#allow for inversion by having random lapse rate at diff altitudes\n",
    "def add_altitude_effects(rng, samp_inc, mean_tempC_Km, max_alt_Km):\n",
    "    tempC_Km = rng.normal(loc=mean_tempC_Km, scale=mean_tempC_Km/100, size=max_alt_Km)\n",
    "# Temp at altitude = base temp - tempC_km * altitude\n",
    "    temperature = ( [np.array(samp_inc) \n",
    "                 for _ in np.arange(max_alt_Km)]\n",
    "               -np.broadcast_to(\n",
    "    tempC_Km * alt, (size-horz_offest,size-horz_offest,max_alt_Km)\n",
    "    ).T\n",
    ")\n",
    "    temperature = temperature.T\n",
    "    return temperature\n",
    "\n",
    "temp_3D = add_altitude_effects(rng, samp_inc, mean_tempC_Km, max_alt_Km)\n"
   ]
  },
  {
   "cell_type": "code",
   "execution_count": null,
   "metadata": {},
   "outputs": [],
   "source": [
    "\n",
    "xr_temp_3D = xr.DataArray(temp_3D, dims=['lat', 'long', 'alt'], coords={'lat': lat, 'long': long, 'alt': alt})\n",
    "fig = xr_temp_3D.plot.contourf(x='lat',y='long',col='alt', col_wrap=4,\n",
    "                         robust=True)#, vmin=-90, vmax=32, levels=20)\n",
    "plt.suptitle('Temperature at different altitudes', fontsize = 'xx-large',\n",
    "             weight = 'extra bold')\n",
    "plt.subplots_adjust(top=.92, right=.8, left=.05, bottom=.05)\n",
    "plt.show()\n",
    " # plot temperature at different altitudes for lat 40 and long 140 and lat 80 and long 140 and lat 100 and long 100 \n",
    "\n",
    "xr_temp_3D.sel(lat=40, long=140).plot(y='alt')\n",
    "xr_temp_3D.sel(lat=80, long=140).plot(y='alt')\n",
    "xr_temp_3D.sel(lat=100, long=100).plot(y='alt')\n",
    "title = 'Temperature at different altitudes '\n",
    "plt.title(title, fontsize = 'xx-large', weight = 'extra bold')\n",
    "plt.legend(['lat 40 and long 140', 'lat 80 and long 140', 'lat 100 and long 100'])\n",
    "\n",
    "\n",
    "\n",
    "xr_tempC_Km=  xr.DataArray(mean_tempC_Km, dims=['alt'], coords={'alt': alt})\n"
   ]
  },
  {
   "cell_type": "code",
   "execution_count": null,
   "metadata": {},
   "outputs": [],
   "source": [
    "#check slopes\n",
    "\n",
    "xr_4_slope = xr_temp_3D.sel(alt=10000,long=40)\n",
    "slope_lat = xr_4_slope.diff('lat')/xr_4_slope.lat.diff('lat')\n",
    "slope_lat.mean()\n",
    "print(slope_lat.mean(),'\\n---------------\\n',lat_inc_slope, '\\n\\n')\n",
    "xr_4_slope = xr_temp_3D.sel(alt=10000,lat=140)\n",
    "slope_long = xr_4_slope.diff('long')/xr_4_slope.long.diff('long')\n",
    "slope_long.mean()\n",
    "print(slope_long.mean(),'\\n---------------\\n',long_inc_mu)"
   ]
  },
  {
   "cell_type": "markdown",
   "metadata": {},
   "source": [
    "\n",
    "# Calculate pressure based on baseline temp field and assumed L; \n"
   ]
  },
  {
   "cell_type": "code",
   "execution_count": null,
   "metadata": {},
   "outputs": [],
   "source": [
    "\n",
    "#barometric formula\n",
    "def add_barometric_effects(T = 288.15-273.15, L = 0.0065, H = 0,  P0 = 101_325.00, g0 = 9.80665, M = 0.0289644, R = 8.3144598):\n",
    "    #barometric formula\n",
    "    #P = P0 * (1 - L * H / T0) ^ (g0 * M / (R * L))\n",
    "    #P = pressure\n",
    "    #P0 = pressure at sea level = 101_325.00 Pa\n",
    "    #L = temperature lapse rate = temperature lapse rate (K/m) in\n",
    "    #H = altitude (m)\n",
    "    #T0 = temperature at sea level = reference temperature (K)\n",
    "    #g0 = gravitational acceleration = gravitational acceleration: 9.80665 m/s2\n",
    "    #M = molar mass of air = molar mass of Earth's air: 0.0289644 kg/mol\n",
    "    #R = gas constant = universal gas constant: 8.3144598 J/(mol·K)\n",
    "    #L = temperature lapse rate\n",
    "    #T = temperature\n",
    "    if isinstance(T, xr.core.dataarray.DataArray):\n",
    "        T0 = T.sel(alt=0)\n",
    "        \n",
    "    else:\n",
    "        T0 = T[0]\n",
    "        print('used t[0]')\n",
    "        print(type(T))\n",
    "    # not using temp at altitude directly so cna add 273.15 to just T0\n",
    "    T0 = T0 +273.15\n",
    "\n",
    "    #return P0 * (1 - L * H / (T0+273.15)) ** (g0 * M / (R * L))\n",
    "    #return P0 * (1 + L * H / (T0+273.15)) ** (-g0 * M / (R * L))\n",
    "    return P0 * (1 + (-L)*H/ T0) ** (-g0 * M / (R * (-L)))\n",
    "\n",
    "\n",
    "'''pressure = add_barometric_effects(T = xr_temp_3D, \n",
    "                                 L = mean_tempC_Km, \n",
    "                                 H = xr_temp_3D.alt,  P0 = 101_325.00, g0 = 9.80665, M = 0.0289644, R = 8.3144598)'''\n",
    "#put in ground temperature effects on pressure\n",
    "P0_space = add_barometric_effects(T= xr_temp_3D, H=1 , P0 = 101_325.00, )\n",
    "\n",
    "pressure = add_barometric_effects(T = xr_temp_3D, \n",
    "                                 L = mean_tempC_Km, \n",
    "                                 H = xr_temp_3D.alt,  P0 = P0_space, g0 = 9.80665, M = 0.0289644, R = 8.3144598)\n",
    "pressure_backup = pressure.copy()\n"
   ]
  },
  {
   "cell_type": "code",
   "execution_count": null,
   "metadata": {},
   "outputs": [],
   "source": [
    "#add noise to pressure\n",
    "pressure=pressure_backup.pipe(lambda x: rng.normal(loc=x, scale=1000))-xr.zeros_like( pressure)"
   ]
  },
  {
   "cell_type": "code",
   "execution_count": null,
   "metadata": {},
   "outputs": [],
   "source": [
    "\n",
    "xr_temp_pres = xr.merge(\n",
    "    [xr_temp_3D.rename(\"Temperature\"), \n",
    "     pressure.rename(\"Pressure\")]\n",
    "     )\n",
    "\n",
    "xr_temp_pres.Pressure.plot.contourf(x='lat',y='long', col='alt', col_wrap=4,\n",
    "                         robust=True, levels=20)\n",
    "plt.suptitle('Pressure at different altitudes', fontsize = 'xx-large',\n",
    "             weight = 'extra bold')\n",
    "plt.subplots_adjust(top=.92, right=.8, left=.05, bottom=.05)\n"
   ]
  },
  {
   "cell_type": "code",
   "execution_count": null,
   "metadata": {},
   "outputs": [],
   "source": [
    "\n",
    "#xr_temp_pres.mean(['lat', 'long']).plot.scatter(x='alt', y='Pressure' )\n",
    "# add error bars to scatter plot\n",
    "plt.errorbar(xr_temp_pres.mean(['lat', 'long']).alt, xr_temp_pres.mean(['lat', 'long']).Pressure,\n",
    "                yerr=xr_temp_pres.std(['lat', 'long']).Pressure, fmt='o')\n",
    "\n",
    "plt.title('Pressure at different altitudes', fontsize = 'xx-large',\n",
    "                weight = 'extra bold')\n",
    "plt.xlabel('Altitude (m)', fontsize = 'x-large',\n",
    "                weight = 'extra bold')\n",
    "plt.ylabel('Pressure (Pa)', fontsize = 'x-large',\n",
    "                weight = 'extra bold')\n",
    "plt.subplots_adjust(top=.92, right=.8, left=.05, bottom=.05)\n",
    "plt.show()\n",
    "\n",
    "# plot pressure at different altitudes for lat 40 and long 140 and lat 80 and long 140\n",
    "xr_temp_pres.sel(lat=40, long=140).Pressure.plot.line(x='alt')\n",
    "xr_temp_pres.sel(lat=80, long=140).Pressure.plot.line(x='alt')\n",
    "xr_temp_pres.sel(lat=100, long=100).Pressure.plot.line(x='alt')\n",
    "title = 'Pressure at different altitudes '\n",
    "plt.title(title, fontsize = 'xx-large', weight = 'extra bold')\n",
    "plt.legend(['lat 40 and long 140', 'lat 80 and long 140', 'lat 100 and long 100'])\n"
   ]
  },
  {
   "attachments": {},
   "cell_type": "markdown",
   "metadata": {},
   "source": [
    "# Make trajectory and get corresponding temp and pres\n"
   ]
  },
  {
   "cell_type": "code",
   "execution_count": null,
   "metadata": {},
   "outputs": [],
   "source": [
    "# make Z = a function of time and  X = sin of time and y = cos of time\n",
    "time = pd.to_datetime( np.arange(0, 3*60*60, 1), unit='s')\n",
    "print(time)\n"
   ]
  },
  {
   "cell_type": "code",
   "execution_count": null,
   "metadata": {},
   "outputs": [],
   "source": [
    "\n",
    "release_alt = 12_000 #Troposphere goes to about 12Km, thermal is about linear there\n",
    "step_alt = 1\n",
    "turn_rate = 3.14 #turns per hour\n",
    "x = (np.sin((time.hour+time.minute/60 +time.second/3600)*(2*np.pi)*turn_rate) +1) * size/2.50 +30\n",
    "y = (np.cos((time.hour+time.minute/60 +time.second/3600)*(2*np.pi)*turn_rate) +1 ) * size/2\n",
    "#create samples from normal distribution and sort them\n",
    "samples = stats.weibull_max.rvs(2.9, loc=0, scale=1, size=len(time), random_state=None)\n",
    "samples.sort()\n",
    "steps = samples/(samples.max()-samples.min()) /1.3  #normalize and shrink\n",
    "steps = steps - steps.min() #shift to 0\n",
    " #smaller step per time\n",
    "z = release_alt * (1- steps)\n",
    "\n",
    "plt.plot(time, z)\n",
    "plt.xlabel('Time')\n",
    "plt.ylabel('Altitude')\n",
    "plt.title('Altitude vs Time')\n",
    "ax = plt.gca()\n",
    "ax.set_ylim(0, 12000)\n",
    "plt.show()\n",
    "#plot 3d trajectory of z by x and y\n",
    "fig = plt.figure()\n",
    "ax = fig.add_subplot(111, projection='3d')\n",
    "ax.plot(x, y, z)\n",
    "ax.set_xlabel('X')\n",
    "ax.set_ylabel('Y')\n",
    "ax.set_zlabel('Z')\n",
    "\n",
    "ax.set_zlim(0, 12000)\n",
    "plt.title('3D Trajectory')\n",
    "plt.show()\n"
   ]
  },
  {
   "cell_type": "code",
   "execution_count": null,
   "metadata": {},
   "outputs": [],
   "source": [
    "\n",
    "#select from xarray the temperature at the pressure of the trajectory\n",
    "xr_traj_env = xr.DataArray()\n",
    "\n",
    "xr_x = xr.DataArray(x, dims=['time'], coords={'time': time})\n",
    "xr_y = xr.DataArray(y, dims=['time'], coords={'time': time})\n",
    "xr_z = xr.DataArray(z, dims=['time'], coords={'time': time})\n",
    "\n",
    "xr_traj_env = xr_temp_pres.interp(lat=xr_x,long=xr_y,alt=xr_z)#, method='nearest')\n",
    "xr_traj_env = xr_traj_env.interpolate_na(dim='time', method='linear', fill_value=\"extrapolate\")\n",
    "xr_traj_env.attrs =dict(units='seconds since 1970-01-01 00:00:00')\n",
    " # delay start of trajectory\n",
    "xr_traj_env['time'] = xr_traj_env.time +pd.Timedelta(hours=.75)\n",
    "\n",
    "xr_traj_env\n"
   ]
  },
  {
   "attachments": {},
   "cell_type": "markdown",
   "metadata": {},
   "source": [
    "\n",
    "# Put in Ballon data\n"
   ]
  },
  {
   "cell_type": "code",
   "execution_count": null,
   "metadata": {},
   "outputs": [],
   "source": [
    "\n",
    "ballon_alt_samples = np.arange(start=0,stop=max_alt_Km*1000+1,step=500)\n",
    "ballon_time = ballon_alt_samples/5\n",
    "ballon_time = pd.to_datetime(  ballon_time, unit='s')\n",
    "ballon_lat = [40, 80, 41, 139, 140]\n",
    "ballon_long = [15, 100, 140, 139, 25]\n",
    "launch_count = len(ballon_lat)\n",
    "ballon_delay = [pd.Timedelta(hours=i)\n",
    "                for i in [0,5,6.5,8,9]\n",
    "                ]# 7*60*60 # 7 hrs later in seconds\n",
    "launch_idx = np.arange(0,launch_count)\n",
    "def ballon_release(xr_temp_pres, ballon_alt_samples, ballon_time, ballon_lat, ballon_long, ballon_delay, launch_idx):\n",
    "    #ballon launch delay is in hours, will convert number to pd.Timedelta\n",
    "    #ballon_delay = pd.Timedelta(hours=ballon_delay)\n",
    "    coords={'launch':[launch_idx],'time':(('time'),ballon_time+ballon_delay)}\n",
    "    xr_ballon_env = xr_temp_pres.interp(lat=\n",
    "                                    xr.DataArray([[ballon_lat[launch_idx]]]*len(ballon_time), \n",
    "                                                 dims=['time','launch'],\n",
    "                                                 coords=coords),\n",
    "                                    long=\n",
    "                                    xr.DataArray([[ballon_long[launch_idx]]]*len(ballon_time)\n",
    "                                    ,\n",
    "                                                 dims=['time','launch'],\n",
    "                                                 coords=coords),\n",
    "                                    alt=\n",
    "                                    xr.DataArray([ballon_alt_samples],\n",
    "                                                 dims=['launch','time'],\n",
    "                                                 coords=coords),\n",
    "                                    )\n",
    "    xr_ballon_env= xr_ballon_env.interpolate_na(dim='time',method='linear', fill_value = 'extrapolate')\n",
    "    xr_ballon_env.attrs =dict(units='seconds since 1970-01-01 00:00:00')\n",
    "    return xr_ballon_env\n",
    "\n",
    "#TODO: remove the 'launch' dimension from the ballon_release function, then do not squeeze it out\n",
    "xr_ballon_env_lst = [ballon_release(xr_temp_pres, ballon_alt_samples, ballon_time,\n",
    "\n",
    "                                 ballon_lat, ballon_long, ballon_delay[i], launch_idx=i).squeeze()\n",
    "                                   for i in np.arange(launch_count)\n",
    "\n",
    "                    ]\n",
    "xr_ballon_env = xr.concat(xr_ballon_env_lst, dim='time')\n",
    "\n",
    "\n",
    "\n",
    "xr_ballon_env\n"
   ]
  },
  {
   "cell_type": "code",
   "execution_count": null,
   "metadata": {},
   "outputs": [],
   "source": [
    "\n",
    "xr_traj_env = xr.concat([xr_traj_env, \n",
    "                         xr_ballon_env.drop('launch')],\n",
    "                           dim='time').sortby('time')\n",
    "#plot 3d trajectory of z by x and y\n",
    "\n",
    "def plot_traj_3d(xarray=None):\n",
    "    xr_x= xarray\n",
    "    fig = plt.figure()\n",
    "    ax = fig.add_subplot(111, projection='3d')\n",
    "    ax.plot(xr_x.lat,\n",
    "            xr_x.long,\n",
    "            xr_x.alt)\n",
    "    ax.set_xlabel('Lat')\n",
    "    ax.set_ylabel('Long')\n",
    "    ax.set_zlabel('Alt')\n",
    "    ax.set_zlim(0, xr_x.alt.max())\n",
    "    plt.title('3D Trajectory')\n",
    "    plt.show()\n",
    "\n",
    " \n",
    "\n",
    "plot_traj_3d(xr_traj_env)"
   ]
  },
  {
   "cell_type": "code",
   "execution_count": null,
   "metadata": {},
   "outputs": [],
   "source": [
    "\n",
    "xr_traj_env.Temperature.plot.scatter(x='time',color='black')\n",
    "plt.suptitle('Temperature over time', fontsize = 'xx-large')\n",
    "plt.show()\n",
    "#make each dot black\n",
    "xr_traj_env.Pressure.plot.scatter(x='time', y='Pressure', color='black')\n",
    "plt.suptitle('pressure over time', fontsize = 'xx-large')\n",
    "plt.show()\n"
   ]
  },
  {
   "cell_type": "markdown",
   "metadata": {},
   "source": [
    "\n",
    "# downsample from xarray\n"
   ]
  },
  {
   "cell_type": "code",
   "execution_count": null,
   "metadata": {},
   "outputs": [],
   "source": [
    "xr_traj_env.reset_coords(['lat','long','alt'], drop=False).resample(time='5min', restore_coord_dims=True\n",
    "                                                                    ).mean().dropna(dim='time'\n",
    "                                                                                    ).set_coords(['lat','long','alt']\n",
    "                                                                                                 ).set_xindex(['alt','lat','long'])\n",
    "\n"
   ]
  },
  {
   "cell_type": "code",
   "execution_count": null,
   "metadata": {},
   "outputs": [],
   "source": [
    "\n",
    "#must be a datetime index in xarray\n",
    "# move xarray coordinate to variable\n",
    "xr_traj_env_time = xr_traj_env.reset_coords(['lat','long','alt'], drop=False)\n",
    "xr_traj_env_time = xr_traj_env_time.resample(time='5min', restore_coord_dims=True).mean().dropna(dim='time')\n",
    "xr_traj_env_time_coords = xr_traj_env_time.copy(deep=True)\n",
    "#Move variable to xarray coordinate multiindex\n",
    "xr_traj_env_time= xr_traj_env.reset_coords(['lat','long','alt'], drop=False\n",
    "                                           ).resample(time='5min', restore_coord_dims=True\n",
    "                                                      ).mean().dropna(dim='time'\n",
    "                                                                      ).set_coords(['lat','long','alt']\n",
    "                                                                                   ).set_xindex(['alt','lat','long'])\n",
    "\n",
    "'''#this duplicates the data :(\n",
    "xr_traj_env_time = xr_traj_env_time.drop(['lat','long','alt'])\n",
    "xr_traj_env_time = xr_traj_env_time.expand_dims({\"lat\":xr_traj_env_time_coords.lat.values, \n",
    "                              'long':xr_traj_env_time_coords.long.values, \n",
    "                              'alt':xr_traj_env_time_coords.alt.values}) '''\n",
    "\n",
    "\n",
    "plot_traj_3d(xr_traj_env_time)\n",
    "plt.show()\n",
    "\n",
    "xr_traj_env_time_coords.Temperature.plot.scatter(x='time',color='black')\n",
    "plt.suptitle('Temperature over time', fontsize = 'xx-large')\n",
    "plt.show()\n",
    "#make each dot black\n",
    "xr_traj_env_time_coords.Pressure.plot.scatter(x='time', y='Pressure', color='black')\n",
    "plt.suptitle('pressure over time', fontsize = 'xx-large')\n",
    "plt.show()\n",
    "# toDO CHANGE THIS VARIABLE BELOW HERE\n",
    "#xarray make a multiindex of lat long alt and time\n",
    "\n",
    "#grp_traj_env = \n",
    "# may be useful : xr_traj_env_time.stack(alt_lat_long_time=['alt','lat','long','time'],create_index=True)\n"
   ]
  },
  {
   "cell_type": "code",
   "execution_count": null,
   "metadata": {},
   "outputs": [],
   "source": [
    "#xr_traj_env_time wher Temperature is between 26 and 27 degrees\n",
    "xr_traj_env_time.sel( lat=40.0, long=15.0)#[0,:,:,0]"
   ]
  },
  {
   "attachments": {},
   "cell_type": "markdown",
   "metadata": {},
   "source": [
    "\n",
    "# # Using average values per time period along release; TODO: find more principled way to remove autocorrelation \n"
   ]
  },
  {
   "cell_type": "markdown",
   "metadata": {},
   "source": [
    "\n",
    "# # Model temp and pressure varying by altitude, lat, & long\n"
   ]
  },
  {
   "cell_type": "code",
   "execution_count": null,
   "metadata": {},
   "outputs": [],
   "source": [
    "#standardize the data\n",
    "\n",
    "def normalization(xarray=None):\n",
    "    xr_x = xarray\n",
    "    revert_min, revert_spread = xr_x.min(), xr_x.max()-xr_x.min()\n",
    "    xr_x = (xr_x - revert_min) / revert_spread\n",
    "    return xr_x, revert_min, revert_spread\n",
    "def revert_normalization(xarray=None, revert_min=None, revert_spread=None):\n",
    "    xr_x = xarray\n",
    "    xr_x = xr_x * revert_spread + revert_min\n",
    "    return xr_x\n",
    "\n",
    "xr_traj_env_time['stz_lat'], sdz_min, stz_spread = normalization(xr_traj_env_time.lat)\n",
    "xr_traj_env_time.attrs['sdz_lat_min'] =sdz_min.values\n",
    "xr_traj_env_time.attrs['sdz_lat_spread']  =stz_spread.values\n",
    "xr_traj_env_time['stz_long'], sdz_min, stz_spread = normalization(xr_traj_env_time.long)\n",
    "xr_traj_env_time.attrs['sdz_long_min'] =sdz_min.values\n",
    "xr_traj_env_time.attrs['sdz_long_spread']  =stz_spread.values\n",
    "xr_traj_env_time['stz_alt'], sdz_min, stz_spread = normalization(xr_traj_env_time.alt)\n",
    "xr_traj_env_time.attrs['sdz_alt_min'] =sdz_min.values\n",
    "xr_traj_env_time.attrs['sdz_alt_spread']  =stz_spread.values\n",
    "\n",
    "xr_traj_env_time"
   ]
  },
  {
   "cell_type": "code",
   "execution_count": null,
   "metadata": {},
   "outputs": [],
   "source": [
    "\n",
    "coords={'alt_lat_long_time':\n",
    "                      np.arange(xr_traj_env_time.sizes['time'], dtype=int)\n",
    "                      }\n",
    "with pm.Model(coords=coords) as thermal_pres:\n",
    "    #Temp is in celcius\n",
    "    \n",
    "    Alt_ = pm.ConstantData('Altitude_m', xr_traj_env_time.alt.values,# use normal unstabdardized data\n",
    "                                          dims='alt_lat_long_time' )\n",
    "    Lat_ = pm.ConstantData('Latitude', xr_traj_env_time.stz_lat.values,# [bin_item.mid for bin_item in grp_traj_env.lat_bins.values],\n",
    "                                        dims='alt_lat_long_time' )\n",
    "    Long_ = pm.ConstantData('Longitude', xr_traj_env_time.stz_long.values,#[bin_item.mid for bin_item in grp_traj_env.long_bins.values],\n",
    "                                          dims='alt_lat_long_time' )\n",
    "    Temp_ = pm.ConstantData('Temperature_Samples', xr_traj_env_time.Temperature.values, dims='alt_lat_long_time' )\n",
    "    Pres_ = pm.ConstantData('Pressure_Samples', xr_traj_env_time.Pressure.values, dims='alt_lat_long_time' )\n",
    "    #prior on effect on temp (degC) of altitude and lat, long\n",
    "    baseline_temp = pm.Normal('baseline_temp', mu=17+45, sigma=15)\n",
    "    Alt_effect_temp = pm.Normal('Alt_effect_temp_Km', mu=-6, sigma=0.5)\n",
    "    Lat_effect_temp = pm.Normal('Lat_effect_temp', mu=0, sigma=100/4)\n",
    "    Long_effect_temp = pm.Normal('Long_effect_temp', mu=0, sigma=25/4)\n",
    "    Lat_Long_effect_temp = 0  #pm.Normal('Lat_Long_effect_temp', mu=0, sigma=1)\n",
    "    #prior on temp and pressure\n",
    "    #TODO: PULL FROM DATABASE into a pm.Interpolated...maybe not: need relationship between data spreads?\n",
    "    mu_t = pm.Deterministic('mu_t',\n",
    "                               baseline_temp + \n",
    "                               Alt_effect_temp/1000 * Alt_ + \n",
    "                               Lat_effect_temp * Lat_ + \n",
    "                               Long_effect_temp * Long_ + \n",
    "                               Lat_Long_effect_temp * Lat_ * Long_, \n",
    "                               dims='alt_lat_long_time')\n",
    "    #mu_t = hierarchical_normal('temperature_mean', mu= mu_mu_t, sigma = 2, dims='alt_lat_long_time')\n",
    "    #mu_p = hierarchical_normal('pressure_mean', \n",
    "    P0 = pm.Normal('P0', mu=1, sigma=.01)*101_325.00 # lat/long influence on ground level temp captured in Temp_0\n",
    "    g0 = 9.80665\n",
    "    M = 0.0289644\n",
    "    R = 8.3144598\n",
    "    # NOTE: Temp_[0] is not the lowest altitude temperature, but the first temperature in the array\n",
    "    Temp_0 = baseline_temp+ Lat_effect_temp * Lat_ + Long_effect_temp * Long_ # account for lat/long influence on ground level temp\n",
    "    mu_p= pm.Deterministic('mu_p',P0 *  ((mu_t+273.15)/(Temp_0+273.15)) ** (-g0 * M / (R * (Alt_effect_temp/1000))), \n",
    "                                 dims='alt_lat_long_time')\n",
    "\n",
    "    #add_barometric_effects = P0 * (T/T0) ** (-g0 * M / (R * L))\n",
    "    #prior on error variation\n",
    "    sigma_t=pm.Exponential('model_error_t', 1/5)\n",
    "    sigma_p=pm.Exponential('model_error_p', 1/5000)\n",
    "    #adjusted temp - normal dist error term\n",
    "    obs_t = pm.Normal('obs_t', mu=mu_t, sigma=sigma_t,  observed = Temp_, dims='alt_lat_long_time')\n",
    "    obs_p = pm.Normal('obs_p', mu=mu_p, sigma=sigma_p, observed = Pres_, dims='alt_lat_long_time')\n",
    "    \n",
    "pm.model_to_graphviz(thermal_pres)\n"
   ]
  },
  {
   "attachments": {},
   "cell_type": "markdown",
   "metadata": {},
   "source": [
    "## Examine the priors selected and their match to the observed"
   ]
  },
  {
   "cell_type": "code",
   "execution_count": null,
   "metadata": {},
   "outputs": [],
   "source": [
    "with thermal_pres:\n",
    "    idata = pm.sample_prior_predictive(1000)\n",
    "az.plot_ppc(idata, group='prior', kind='cumulative')\n"
   ]
  },
  {
   "attachments": {},
   "cell_type": "markdown",
   "metadata": {},
   "source": [
    "## Run MCMC bayesian sampler"
   ]
  },
  {
   "cell_type": "code",
   "execution_count": null,
   "metadata": {},
   "outputs": [],
   "source": [
    "with thermal_pres:\n",
    "    idata.extend(pm.sample(1000, tune=1000, chains = 4, cores=1))\n",
    "    # pymc sample posterior predictive check\n",
    "    pm.sample_posterior_predictive(idata, extend_inferencedata=True)\n",
    "    az.plot_ppc(idata, group='posterior', kind='cumulative')"
   ]
  },
  {
   "cell_type": "code",
   "execution_count": null,
   "metadata": {},
   "outputs": [],
   "source": [
    "#As i am going to be messing with coordinates and attributes, i am going to make a copy of the data\n",
    "idata2 = idata.copy()"
   ]
  },
  {
   "cell_type": "code",
   "execution_count": null,
   "metadata": {},
   "outputs": [],
   "source": [
    "correctsignsize_mean_tempC_Km= -mean_tempC_Km*1000\n",
    "az.plot_trace(idata2, lines = (('Alt_effect_temp_Km', {},[correctsignsize_mean_tempC_Km]),\n",
    "                              #('Lat_effect_temp',{}, lat_inc_slope  ),\n",
    "                              #('Long_effect_temp',{}, long_inc_mu  ), ))\n",
    "                              #('Lat_effect_temp',{}, lat_inc_slope / xr_traj_env_time_scaled.attrs['sdz_lat_spread'] ),\n",
    "                              #('Long_effect_temp',{}, long_inc_mu / xr_traj_env_time_scaled.attrs['sdz_long_spread'] ), ))\n",
    "                              ('Lat_effect_temp',{}, lat_inc_slope  * xr_traj_env_time.attrs['sdz_lat_spread'] ),  \n",
    "                              ('Long_effect_temp',{}, long_inc_mu * xr_traj_env_time.attrs['sdz_long_spread'] ), ))\n",
    "\n",
    "plt.subplots_adjust (hspace=0.4)#, wspace=0.4)"
   ]
  },
  {
   "cell_type": "code",
   "execution_count": null,
   "metadata": {},
   "outputs": [],
   "source": [
    "sortby_alt = xr.DataArray(idata2.constant_data.Altitude_m.values,\n",
    "                                              coords={'alt_lat_long_time':idata2.constant_data.alt_lat_long_time.values})\n",
    "idata2 = idata2.map(lambda ds, **kwarg: ds.sortby(**kwarg), groups= [\"~sample_stats\"],variables=sortby_alt, ascending=False)\n",
    "idata2 = idata2.map(lambda ds, **kwarg: ds.assign_coords(**kwarg), \n",
    "           groups=['prior_predictive', 'posterior_predictive', 'observed_data'], \n",
    "           Altitude_m=(['alt_lat_long_time'], idata2.constant_data.Altitude_m.values))\n",
    "\n",
    "idx_sortby_alt = idata2.constant_data.alt_lat_long_time.values\n"
   ]
  },
  {
   "cell_type": "code",
   "execution_count": null,
   "metadata": {},
   "outputs": [],
   "source": [
    "#xarray filter by values - used in grouping graphs\n",
    "lat_min = idata2.constant_data.Latitude.min()\n",
    "lat_max = idata2.constant_data.Latitude.max()\n",
    "long_min = idata2.constant_data.Longitude.min()\n",
    "long_max = idata2.constant_data.Longitude.max()\n",
    "lat_mid = (lat_min + lat_max)/2\n",
    "long_mid = (long_min + long_max)/2\n",
    "\n",
    "idx_north = idata2.constant_data.where(idata2.constant_data.Latitude>lat_mid, drop=True).alt_lat_long_time.values\n",
    "idx_south = idata2.constant_data.where(idata2.constant_data.Latitude<lat_mid, drop=True).alt_lat_long_time.values\n",
    "idx_east = idata2.constant_data.where(idata2.constant_data.Longitude>long_mid, drop=True).alt_lat_long_time.values\n",
    "idx_west = idata2.constant_data.where(idata2.constant_data.Longitude<long_mid, drop=True).alt_lat_long_time.values\n"
   ]
  },
  {
   "cell_type": "code",
   "execution_count": null,
   "metadata": {},
   "outputs": [],
   "source": [
    "# creating class for labeling the altitude instead of variable index\n",
    "class DimCoordLabeller_alt(azl.BaseLabeller):\n",
    "    \"\"\"WIP.\"\"\"\n",
    "    def __init__(self, coords_ds):\n",
    "        self.coords_ds = xr.Dataset(coords)\n",
    "\n",
    "    def dim_coord_to_str(self, dim, coord_val, coord_idx):\n",
    "        \"\"\"WIP.\"\"\"#format decimals in f statement\n",
    "        temp =  self.coords_ds.sel(pointwise_sel=coord_val).items()\n",
    "        temp = [(v.values) for _,v in temp][0]\n",
    "        return f\"{temp:.2f}\" \n",
    "    \n",
    "coords = {\n",
    "    'alt_lat_long_time': xr.DataArray(\n",
    "        idata2.constant_data.Altitude_m.values, \n",
    "        dims=['pointwise_sel'],coords={'pointwise_sel': idata2.constant_data.alt_lat_long_time.values}\n",
    "    )\n",
    "}        \n",
    "labeller = DimCoordLabeller_alt(coords)\n"
   ]
  },
  {
   "cell_type": "code",
   "execution_count": null,
   "metadata": {},
   "outputs": [],
   "source": [
    "#figures with lat in coulmns and long in rows\n",
    "fig, ax = plt.subplots(2, 2, figsize=(10, 10))\n",
    "ax = ax.flatten()\n",
    "for i, ((N_S_label,N_S_idx), (E_W_label,E_W_idx)) in enumerate([[i,j] \n",
    "                                  for i in [('North',idx_north),('South',idx_south)] \n",
    "                                  for j in [('West',idx_west), ('East',idx_east)]]):\n",
    "    print(N_S_label,E_W_label)\n",
    "    ax[i].set_title(f'Lat: {N_S_label} Long: {E_W_label}')\n",
    "    idx = np.intersect1d(N_S_idx,E_W_idx)\n",
    "    az.plot_forest(idata2.sel(alt_lat_long_time=[x for x in idx_sortby_alt\n",
    "                                                 if np.any(np.isin(idx,x))]),\n",
    "                   var_names=['mu_t'],\n",
    "                   kind='ridgeplot', \n",
    "                   combined=True, ax= ax[i],\n",
    "                   labeller=labeller\n",
    "                   )\n",
    "    #align the y axis\n",
    "    #ax[i].set_ylim(0, 10000)\n",
    "    ax[i].set_xlim(-60, 120)\n",
    "    ax[i].grid()\n"
   ]
  },
  {
   "cell_type": "code",
   "execution_count": null,
   "metadata": {},
   "outputs": [],
   "source": [
    "az.plot_forest(idata2.sel( alt_lat_long_time=idx_sortby_alt), var_names=['mu_t'],kind='ridgeplot', combined=True,labeller=labeller)\n",
    "az.plot_forest(idata2.sel( alt_lat_long_time=idx_sortby_alt), var_names=['mu_p'],kind='ridgeplot', combined=True,labeller=labeller)\n"
   ]
  },
  {
   "cell_type": "code",
   "execution_count": null,
   "metadata": {},
   "outputs": [],
   "source": [
    "idata_pred_Alt = idata2.map( lambda ds, **kwarg: \n",
    "                                   ds.swap_dims(**kwarg).drop('alt_lat_long_time'),#.drop_indexes('Altitude_m'), \n",
    "                                   groups=['observed','predictive'], filter_groups='like', \n",
    "                                   alt_lat_long_time='Altitude_m')\n",
    "idata_pred_Alt\n",
    "az.plot_dist_comparison(idata_pred_Alt, \n",
    "                        kind='observed', \n",
    "                        #labeller=labeller, \n",
    "                        )\n",
    "plt.show()"
   ]
  },
  {
   "cell_type": "code",
   "execution_count": null,
   "metadata": {},
   "outputs": [],
   "source": [
    "az.plot_dist_comparison(idata_pred_Alt, \n",
    "                        kind='observed', \n",
    "                        var_names=['obs_p']\n",
    "                        #labeller=labeller, \n",
    "                        )\n",
    "plt.show()"
   ]
  },
  {
   "cell_type": "code",
   "execution_count": null,
   "metadata": {},
   "outputs": [],
   "source": []
  }
 ],
 "metadata": {
  "kernelspec": {
   "display_name": "Python 3",
   "language": "python",
   "name": "python3"
  },
  "language_info": {
   "codemirror_mode": {
    "name": "ipython",
    "version": 3
   },
   "file_extension": ".py",
   "mimetype": "text/x-python",
   "name": "python",
   "nbconvert_exporter": "python",
   "pygments_lexer": "ipython3",
   "version": "3.10.10"
  },
  "orig_nbformat": 4
 },
 "nbformat": 4,
 "nbformat_minor": 2
}
